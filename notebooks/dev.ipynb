{
 "cells": [
  {
   "cell_type": "code",
   "execution_count": 28,
   "metadata": {},
   "outputs": [],
   "source": [
    "from astropy.io import ascii\n",
    "import numpy as np\n",
    "import astropy.units as u\n",
    "import pandas as pd\n",
    "from astropy.time import Time\n",
    "\n",
    "from minicyclop.io import read_latest"
   ]
  },
  {
   "cell_type": "code",
   "execution_count": 7,
   "metadata": {},
   "outputs": [],
   "source": [
    "t = ascii.read(\"/home/tim/MMT/minicyclop/data/MiniCyclop/Data/Last_Seeing_Data.txt\", delimiter='|', \n",
    "names=['UT', 'MST', 'MJD', 'flux', 'seeing', 'r0'])"
   ]
  },
  {
   "cell_type": "code",
   "execution_count": 8,
   "metadata": {},
   "outputs": [
    {
     "data": {
      "text/html": [
       "<div><i>Table length=1</i>\n",
       "<table id=\"table140117745741840\" class=\"table-striped table-bordered table-condensed\">\n",
       "<thead><tr><th>UT</th><th>MST</th><th>MJD</th><th>flux</th><th>seeing</th><th>r0</th></tr></thead>\n",
       "<thead><tr><th>str21</th><th>str20</th><th>float64</th><th>float64</th><th>float64</th><th>float64</th></tr></thead>\n",
       "<tr><td>6/20/2022 11:55:13 AM</td><td>6/20/2022 4:55:13 AM</td><td>2459750.9966885</td><td>2064.0</td><td>1.08</td><td>105.4</td></tr>\n",
       "</table></div>"
      ],
      "text/plain": [
       "<Table length=1>\n",
       "          UT                  MST                MJD       ...  seeing    r0  \n",
       "        str21                str20             float64     ... float64 float64\n",
       "--------------------- -------------------- --------------- ... ------- -------\n",
       "6/20/2022 11:55:13 AM 6/20/2022 4:55:13 AM 2459750.9966885 ...    1.08   105.4"
      ]
     },
     "execution_count": 8,
     "metadata": {},
     "output_type": "execute_result"
    }
   ],
   "source": [
    "t"
   ]
  },
  {
   "cell_type": "code",
   "execution_count": 17,
   "metadata": {},
   "outputs": [
    {
     "data": {
      "text/plain": [
       "'2022-06-20T11:55:13.886'"
      ]
     },
     "execution_count": 17,
     "metadata": {},
     "output_type": "execute_result"
    }
   ],
   "source": [
    "Time(t['MJD'][0], scale='utc', format='jd').isot"
   ]
  },
  {
   "cell_type": "code",
   "execution_count": 29,
   "metadata": {},
   "outputs": [],
   "source": [
    "d = read_latest(\"/home/tim/MMT/minicyclop/data/MiniCyclop/Data/Last_Seeing_Data.txt\")"
   ]
  },
  {
   "cell_type": "code",
   "execution_count": 30,
   "metadata": {},
   "outputs": [
    {
     "data": {
      "text/plain": [
       "<TimeDelta object: scale='tai' format='jd' value=-0.38014002413865405>"
      ]
     },
     "execution_count": 30,
     "metadata": {},
     "output_type": "execute_result"
    }
   ],
   "source": [
    "d['obstime'] - Time.now()"
   ]
  },
  {
   "cell_type": "code",
   "execution_count": null,
   "metadata": {},
   "outputs": [],
   "source": []
  }
 ],
 "metadata": {
  "interpreter": {
   "hash": "b31db759378bba683e215b1e1f7ce17bb135329335cfddc9c8db73e132ad15c8"
  },
  "kernelspec": {
   "display_name": "Python 3.10.4 ('minicyclop')",
   "language": "python",
   "name": "python3"
  },
  "language_info": {
   "codemirror_mode": {
    "name": "ipython",
    "version": 3
   },
   "file_extension": ".py",
   "mimetype": "text/x-python",
   "name": "python",
   "nbconvert_exporter": "python",
   "pygments_lexer": "ipython3",
   "version": "3.10.4"
  },
  "orig_nbformat": 4
 },
 "nbformat": 4,
 "nbformat_minor": 2
}
