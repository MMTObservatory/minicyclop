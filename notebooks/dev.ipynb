{
 "cells": [
  {
   "cell_type": "code",
   "execution_count": 33,
   "metadata": {},
   "outputs": [],
   "source": [
    "from astropy.io import ascii\n",
    "import numpy as np\n",
    "import astropy.units as u\n",
    "import pandas as pd\n",
    "from astropy.time import Time\n",
    "from astropy.visualization import hist\n",
    "\n",
    "from minicyclop.io import read_latest"
   ]
  },
  {
   "cell_type": "code",
   "execution_count": 7,
   "metadata": {},
   "outputs": [],
   "source": [
    "t = ascii.read(\"/home/tim/MMT/minicyclop/data/MiniCyclop/Data/Last_Seeing_Data.txt\", delimiter='|', \n",
    "names=['UT', 'MST', 'MJD', 'flux', 'seeing', 'r0'])"
   ]
  },
  {
   "cell_type": "code",
   "execution_count": 8,
   "metadata": {},
   "outputs": [
    {
     "data": {
      "text/html": [
       "<div><i>Table length=1</i>\n",
       "<table id=\"table140117745741840\" class=\"table-striped table-bordered table-condensed\">\n",
       "<thead><tr><th>UT</th><th>MST</th><th>MJD</th><th>flux</th><th>seeing</th><th>r0</th></tr></thead>\n",
       "<thead><tr><th>str21</th><th>str20</th><th>float64</th><th>float64</th><th>float64</th><th>float64</th></tr></thead>\n",
       "<tr><td>6/20/2022 11:55:13 AM</td><td>6/20/2022 4:55:13 AM</td><td>2459750.9966885</td><td>2064.0</td><td>1.08</td><td>105.4</td></tr>\n",
       "</table></div>"
      ],
      "text/plain": [
       "<Table length=1>\n",
       "          UT                  MST                MJD       ...  seeing    r0  \n",
       "        str21                str20             float64     ... float64 float64\n",
       "--------------------- -------------------- --------------- ... ------- -------\n",
       "6/20/2022 11:55:13 AM 6/20/2022 4:55:13 AM 2459750.9966885 ...    1.08   105.4"
      ]
     },
     "execution_count": 8,
     "metadata": {},
     "output_type": "execute_result"
    }
   ],
   "source": [
    "t"
   ]
  },
  {
   "cell_type": "code",
   "execution_count": 17,
   "metadata": {},
   "outputs": [
    {
     "data": {
      "text/plain": [
       "'2022-06-20T11:55:13.886'"
      ]
     },
     "execution_count": 17,
     "metadata": {},
     "output_type": "execute_result"
    }
   ],
   "source": [
    "Time(t['MJD'][0], scale='utc', format='jd').isot"
   ]
  },
  {
   "cell_type": "code",
   "execution_count": 29,
   "metadata": {},
   "outputs": [],
   "source": [
    "d = read_latest(\"/home/tim/MMT/minicyclop/data/MiniCyclop/Data/Last_Seeing_Data.txt\")"
   ]
  },
  {
   "cell_type": "code",
   "execution_count": 30,
   "metadata": {},
   "outputs": [
    {
     "data": {
      "text/plain": [
       "<TimeDelta object: scale='tai' format='jd' value=-0.38014002413865405>"
      ]
     },
     "execution_count": 30,
     "metadata": {},
     "output_type": "execute_result"
    }
   ],
   "source": [
    "d['obstime'] - Time.now()"
   ]
  },
  {
   "cell_type": "code",
   "execution_count": 31,
   "metadata": {},
   "outputs": [],
   "source": [
    "t = ascii.read(\"/home/tim/MMT/minicyclop/data/MiniCyclop/Data/Seeing_Data.txt\", delimiter='|', \n",
    "names=['UT', 'MST', 'MJD', 'flux', 'seeing', 'r0'])"
   ]
  },
  {
   "cell_type": "code",
   "execution_count": 40,
   "metadata": {},
   "outputs": [],
   "source": [
    "df = t.to_pandas().set_index('UT').drop(columns=['MST', 'MJD'])"
   ]
  },
  {
   "cell_type": "code",
   "execution_count": 41,
   "metadata": {},
   "outputs": [
    {
     "data": {
      "text/html": [
       "<div>\n",
       "<style scoped>\n",
       "    .dataframe tbody tr th:only-of-type {\n",
       "        vertical-align: middle;\n",
       "    }\n",
       "\n",
       "    .dataframe tbody tr th {\n",
       "        vertical-align: top;\n",
       "    }\n",
       "\n",
       "    .dataframe thead th {\n",
       "        text-align: right;\n",
       "    }\n",
       "</style>\n",
       "<table border=\"1\" class=\"dataframe\">\n",
       "  <thead>\n",
       "    <tr style=\"text-align: right;\">\n",
       "      <th></th>\n",
       "      <th>flux</th>\n",
       "      <th>seeing</th>\n",
       "      <th>r0</th>\n",
       "    </tr>\n",
       "    <tr>\n",
       "      <th>UT</th>\n",
       "      <th></th>\n",
       "      <th></th>\n",
       "      <th></th>\n",
       "    </tr>\n",
       "  </thead>\n",
       "  <tbody>\n",
       "    <tr>\n",
       "      <th>6/8/2022 3:32:32 AM</th>\n",
       "      <td>2733.7</td>\n",
       "      <td>0.84</td>\n",
       "      <td>135.8</td>\n",
       "    </tr>\n",
       "    <tr>\n",
       "      <th>6/8/2022 3:33:27 AM</th>\n",
       "      <td>2755.7</td>\n",
       "      <td>0.84</td>\n",
       "      <td>134.4</td>\n",
       "    </tr>\n",
       "    <tr>\n",
       "      <th>6/8/2022 3:34:23 AM</th>\n",
       "      <td>2801.6</td>\n",
       "      <td>2.38</td>\n",
       "      <td>47.7</td>\n",
       "    </tr>\n",
       "    <tr>\n",
       "      <th>6/8/2022 3:35:16 AM</th>\n",
       "      <td>2853.2</td>\n",
       "      <td>1.01</td>\n",
       "      <td>112.3</td>\n",
       "    </tr>\n",
       "    <tr>\n",
       "      <th>6/8/2022 3:36:00 AM</th>\n",
       "      <td>2739.0</td>\n",
       "      <td>1.03</td>\n",
       "      <td>110.7</td>\n",
       "    </tr>\n",
       "    <tr>\n",
       "      <th>...</th>\n",
       "      <td>...</td>\n",
       "      <td>...</td>\n",
       "      <td>...</td>\n",
       "    </tr>\n",
       "    <tr>\n",
       "      <th>6/21/2022 10:02:42 AM</th>\n",
       "      <td>1448.8</td>\n",
       "      <td>1.04</td>\n",
       "      <td>109.3</td>\n",
       "    </tr>\n",
       "    <tr>\n",
       "      <th>6/21/2022 10:03:40 AM</th>\n",
       "      <td>1354.4</td>\n",
       "      <td>1.17</td>\n",
       "      <td>97.1</td>\n",
       "    </tr>\n",
       "    <tr>\n",
       "      <th>6/21/2022 10:05:51 AM</th>\n",
       "      <td>779.8</td>\n",
       "      <td>1.13</td>\n",
       "      <td>100.5</td>\n",
       "    </tr>\n",
       "    <tr>\n",
       "      <th>6/21/2022 10:06:52 AM</th>\n",
       "      <td>1480.9</td>\n",
       "      <td>1.18</td>\n",
       "      <td>96.0</td>\n",
       "    </tr>\n",
       "    <tr>\n",
       "      <th>6/21/2022 10:07:49 AM</th>\n",
       "      <td>1381.3</td>\n",
       "      <td>0.98</td>\n",
       "      <td>115.9</td>\n",
       "    </tr>\n",
       "  </tbody>\n",
       "</table>\n",
       "<p>6325 rows × 3 columns</p>\n",
       "</div>"
      ],
      "text/plain": [
       "                         flux  seeing     r0\n",
       "UT                                          \n",
       "6/8/2022 3:32:32 AM    2733.7    0.84  135.8\n",
       "6/8/2022 3:33:27 AM    2755.7    0.84  134.4\n",
       "6/8/2022 3:34:23 AM    2801.6    2.38   47.7\n",
       "6/8/2022 3:35:16 AM    2853.2    1.01  112.3\n",
       "6/8/2022 3:36:00 AM    2739.0    1.03  110.7\n",
       "...                       ...     ...    ...\n",
       "6/21/2022 10:02:42 AM  1448.8    1.04  109.3\n",
       "6/21/2022 10:03:40 AM  1354.4    1.17   97.1\n",
       "6/21/2022 10:05:51 AM   779.8    1.13  100.5\n",
       "6/21/2022 10:06:52 AM  1480.9    1.18   96.0\n",
       "6/21/2022 10:07:49 AM  1381.3    0.98  115.9\n",
       "\n",
       "[6325 rows x 3 columns]"
      ]
     },
     "execution_count": 41,
     "metadata": {},
     "output_type": "execute_result"
    }
   ],
   "source": [
    "df"
   ]
  },
  {
   "cell_type": "code",
   "execution_count": null,
   "metadata": {},
   "outputs": [],
   "source": []
  }
 ],
 "metadata": {
  "interpreter": {
   "hash": "b31db759378bba683e215b1e1f7ce17bb135329335cfddc9c8db73e132ad15c8"
  },
  "kernelspec": {
   "display_name": "Python 3.10.4 ('minicyclop')",
   "language": "python",
   "name": "python3"
  },
  "language_info": {
   "codemirror_mode": {
    "name": "ipython",
    "version": 3
   },
   "file_extension": ".py",
   "mimetype": "text/x-python",
   "name": "python",
   "nbconvert_exporter": "python",
   "pygments_lexer": "ipython3",
   "version": "3.10.4"
  },
  "orig_nbformat": 4
 },
 "nbformat": 4,
 "nbformat_minor": 2
}
